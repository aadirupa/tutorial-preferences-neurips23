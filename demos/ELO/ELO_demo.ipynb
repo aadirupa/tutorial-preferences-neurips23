{
 "cells": [
  {
   "cell_type": "markdown",
   "id": "7e6b7a7b",
   "metadata": {},
   "source": [
    "# Demo code for Elo rating example \n",
    "\n",
    "## NeurIPS 2023 Tutorial: Do you Prefer Learning with Preferences? \n",
    "\n",
    "Author: Aditya Gopalan"
   ]
  },
  {
   "cell_type": "code",
   "execution_count": null,
   "id": "326236c5",
   "metadata": {},
   "outputs": [],
   "source": [
    "# import libraries\n",
    "\n",
    "import chess.pgn # to read chess PGN format files\n",
    "import io\n",
    "import pandas as pd\n"
   ]
  },
  {
   "cell_type": "markdown",
   "id": "828c99b7",
   "metadata": {},
   "source": [
    "### The Elo rating update: \n",
    "\n",
    "Suppose players $i$ and $j$, having Bradley-Terry-Luce (BTL) preference model parameters $\\theta_i$ and $\\theta_j$, play a chess game. \n",
    "\n",
    "Let $R \\in \\left\\{0, 1, \\frac{1}{2} \\right\\}$ denote the outcome of the game, where $R=1$ represents a win for $i$. \n",
    "\n",
    "The Elo ratings of the players are updated as follows:\n",
    "\n",
    "$$ \\theta_i \\leftarrow \\theta_i + 10 \\cdot (R - p_{ij}),$$ for $i$, and \n",
    "\n",
    "$$ \\theta_j \\leftarrow \\theta_j + 10 \\cdot (1-R - p_{ji})$$ for $j$.\n",
    "\n",
    "Here, $p_{ij} \\equiv p_{ij}(\\theta_i, \\theta_j) = \\frac{10^{\\theta_i}}{10^{\\theta_i} + 10^{\\theta_j}}$ is the win probability of player $i$, and $p_{ji} = 1-p_{ij}$ is the win probability of player $j$. \n",
    "\n",
    "### Connection to gradient descent: \n",
    "\n",
    "Ignoring the case where a draw $R=\\frac{1}{2}$ is possible, the Elo update can be interpreted as single step of gradient descent for the logarithmic loss function \n",
    "\n",
    "$$ \\ell(\\theta_i, \\theta_j)  = R \\cdot \\log \\frac{1}{p_{ij}} + (1-R) \\cdot \\log \\frac{1}{p_{ji}}, $$\n",
    "\n",
    "with a step size of $10$. "
   ]
  },
  {
   "cell_type": "code",
   "execution_count": null,
   "id": "19708175",
   "metadata": {},
   "outputs": [],
   "source": [
    "# set up the Elo rating update\n",
    "\n",
    "def calculate_elo_rating(rating1, rating2, result, k=10):\n",
    "    \"\"\"calculate win-loss probabilities for a pair of players based on the Bradley-Terry-Luce preference model\"\"\"\n",
    "    exp_score1 = 1 / (1 + 10 ** ((rating2 - rating1) / 400))\n",
    "    exp_score2 = 1 / (1 + 10 ** ((rating1 - rating2) / 400))\n",
    "\n",
    "    # Update ratings\n",
    "    new_rating1 = rating1 + k * (result - exp_score1)\n",
    "    new_rating2 = rating2 + k * (1 - result - exp_score2)\n",
    "\n",
    "    return new_rating1, new_rating2\n",
    "\n",
    "def process_pgn_file(pgn_file_path, initial_ratings):\n",
    "    \"\"\"reads games 1 by 1 from a PGN and updates players' Elo ratings\"\"\"\n",
    "    player_ratings = initial_ratings.copy()\n",
    "    result_map = {\"1-0\": (1, 0), \"0-1\": (0, 1), \"1/2-1/2\": (0.5, 0.5)}\n",
    "\n",
    "    with open(pgn_file_path, 'r') as pgn:\n",
    "        while True:\n",
    "            game = chess.pgn.read_game(pgn)\n",
    "            if game is None:\n",
    "                break\n",
    "\n",
    "            white_full_name = game.headers[\"White\"]\n",
    "            black_full_name = game.headers[\"Black\"]\n",
    "            white = white_full_name.split(',')[0]\n",
    "            black = black_full_name.split(',')[0]\n",
    "            result = game.headers[\"Result\"]\n",
    "            pre_rating_white = player_ratings[white_full_name]\n",
    "            pre_rating_black = player_ratings[black_full_name]\n",
    "\n",
    "            # Update ratings\n",
    "            new_ratings = calculate_elo_rating(\n",
    "                pre_rating_white,\n",
    "                pre_rating_black,\n",
    "                result_map[result][0]\n",
    "            )\n",
    "\n",
    "            player_ratings[white_full_name], player_ratings[black_full_name] = new_ratings\n",
    "\n",
    "            # Print game result and rating updates on separate lines\n",
    "            game_result_str = 'draws' if result == '1/2-1/2' else 'beats'\n",
    "            print(f\"{white} {game_result_str} {black},\\n{white}'s rating updated from {pre_rating_white} --> {player_ratings[white_full_name]},\\n{black}'s rating updated from {pre_rating_black} --> {player_ratings[black_full_name]}\\n\")\n",
    "\n",
    "    return player_ratings\n",
    "\n",
    "\n"
   ]
  },
  {
   "cell_type": "code",
   "execution_count": null,
   "id": "76668830",
   "metadata": {},
   "outputs": [],
   "source": [
    "# Initial Elo ratings of the players before the tournament began\n",
    "\n",
    "initial_ratings = {\n",
    "    \"Caruana, Fabiano\": 2795,\n",
    "    \"Firouzja, Alireza\": 2777,\n",
    "    \"Nepomniachtchi, Ian\": 2771,\n",
    "    \"Giri, Anish\": 2752,\n",
    "    \"So, Wesley\": 2752,\n",
    "    \"Rapport, Richard\": 2748,\n",
    "    \"Dominguez Perez, Leinier\": 2745,\n",
    "    \"Vachier-Lagrave, Maxime\": 2734,\n",
    "    \"Duda, Jan-Krzysztof\": 2731,\n",
    "    \"Aronian, Levon\": 2727\n",
    "}\n",
    "\n",
    "# Path to your chess PGN file\n",
    "pgn_file_path = './sinqcup23.pgn'"
   ]
  },
  {
   "cell_type": "code",
   "execution_count": null,
   "id": "a4b25add",
   "metadata": {
    "scrolled": false
   },
   "outputs": [],
   "source": [
    "# Process the PGN file and compute updated Elo ratings\n",
    "updated_ratings = process_pgn_file(pgn_file_path, initial_ratings)\n",
    "\n",
    "# Create and print the final table\n",
    "final_table = pd.DataFrame.from_dict({\n",
    "    \"Player Name\": [name for name in initial_ratings.keys()],\n",
    "    \"Starting ELO\": initial_ratings.values(),\n",
    "    \"Ending ELO\": [int(round(updated_ratings[name], 0)) for name in initial_ratings.keys()]\n",
    "})\n",
    "print(final_table)\n",
    "print(\"\\n\\n\")"
   ]
  },
  {
   "cell_type": "code",
   "execution_count": null,
   "id": "c7309f69",
   "metadata": {},
   "outputs": [],
   "source": []
  }
 ],
 "metadata": {
  "kernelspec": {
   "display_name": "Python 3 (ipykernel)",
   "language": "python",
   "name": "python3"
  },
  "language_info": {
   "codemirror_mode": {
    "name": "ipython",
    "version": 3
   },
   "file_extension": ".py",
   "mimetype": "text/x-python",
   "name": "python",
   "nbconvert_exporter": "python",
   "pygments_lexer": "ipython3",
   "version": "3.8.18"
  }
 },
 "nbformat": 4,
 "nbformat_minor": 5
}
